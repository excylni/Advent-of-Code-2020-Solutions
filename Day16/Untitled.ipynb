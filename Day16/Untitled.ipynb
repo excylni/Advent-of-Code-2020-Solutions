{
 "cells": [
  {
   "cell_type": "code",
   "execution_count": 47,
   "id": "39e4933a",
   "metadata": {},
   "outputs": [],
   "source": [
    "toye = \"1-3 or 5-7\"\n",
    "    "
   ]
  },
  {
   "cell_type": "code",
   "execution_count": 48,
   "id": "19d8ef5d",
   "metadata": {},
   "outputs": [],
   "source": [
    "toye = toye.split(\" or \")"
   ]
  },
  {
   "cell_type": "code",
   "execution_count": 51,
   "id": "8a8d67e9",
   "metadata": {},
   "outputs": [
    {
     "name": "stdout",
     "output_type": "stream",
     "text": [
      "[['1', '3'], ['5', '7']]\n"
     ]
    }
   ],
   "source": [
    "toye = [i.split('-') for i in toye]\n",
    "print(toye)"
   ]
  },
  {
   "cell_type": "code",
   "execution_count": 56,
   "id": "f0deeb2d",
   "metadata": {},
   "outputs": [],
   "source": [
    "interval = range(int(toye[0][0]),int(toye[0][1])+1)"
   ]
  },
  {
   "cell_type": "code",
   "execution_count": 53,
   "id": "0947d7dd",
   "metadata": {},
   "outputs": [
    {
     "name": "stdout",
     "output_type": "stream",
     "text": [
      "range(1, 3)\n"
     ]
    }
   ],
   "source": [
    "print(interval)"
   ]
  },
  {
   "cell_type": "code",
   "execution_count": 54,
   "id": "3e593f2f",
   "metadata": {},
   "outputs": [
    {
     "name": "stdout",
     "output_type": "stream",
     "text": [
      "range(1, 3)\n"
     ]
    }
   ],
   "source": [
    "="
   ]
  },
  {
   "cell_type": "code",
   "execution_count": null,
   "id": "769cb894",
   "metadata": {},
   "outputs": [],
   "source": []
  }
 ],
 "metadata": {
  "kernelspec": {
   "display_name": "Python 3 (ipykernel)",
   "language": "python",
   "name": "python3"
  },
  "language_info": {
   "codemirror_mode": {
    "name": "ipython",
    "version": 3
   },
   "file_extension": ".py",
   "mimetype": "text/x-python",
   "name": "python",
   "nbconvert_exporter": "python",
   "pygments_lexer": "ipython3",
   "version": "3.9.13"
  }
 },
 "nbformat": 4,
 "nbformat_minor": 5
}
